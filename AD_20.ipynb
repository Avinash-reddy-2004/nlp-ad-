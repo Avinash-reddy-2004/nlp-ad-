{
  "nbformat": 4,
  "nbformat_minor": 0,
  "metadata": {
    "colab": {
      "provenance": [],
      "authorship_tag": "ABX9TyMv+/1Q9glcti44GrJs6BfI",
      "include_colab_link": true
    },
    "kernelspec": {
      "name": "python3",
      "display_name": "Python 3"
    },
    "language_info": {
      "name": "python"
    }
  },
  "cells": [
    {
      "cell_type": "markdown",
      "metadata": {
        "id": "view-in-github",
        "colab_type": "text"
      },
      "source": [
        "<a href=\"https://colab.research.google.com/github/Avinash-reddy-2004/nlp-ad-/blob/main/AD_20.ipynb\" target=\"_parent\"><img src=\"https://colab.research.google.com/assets/colab-badge.svg\" alt=\"Open In Colab\"/></a>"
      ]
    },
    {
      "cell_type": "code",
      "execution_count": 1,
      "metadata": {
        "id": "zzwqKTo_dd7K"
      },
      "outputs": [],
      "source": [
        "%pip install -U -q \"google-generativeai>=0.7.2\""
      ]
    },
    {
      "cell_type": "code",
      "source": [
        "import google.generativeai as genai\n",
        "from google.colab import userdata\n",
        "GOOGLE_API_KEY = userdata.get('GOOGLE_API_KEY')\n",
        "genai.configure(api_key=GOOGLE_API_KEY)"
      ],
      "metadata": {
        "id": "wlrTFn1bfW5g"
      },
      "execution_count": 2,
      "outputs": []
    },
    {
      "cell_type": "code",
      "source": [
        "model = genai.GenerativeModel('gemini-2.0-flash-exp')\n",
        "response = model.generate_content(\"Please give me python code to sort a list.\")\n",
        "print(response.text)"
      ],
      "metadata": {
        "colab": {
          "base_uri": "https://localhost:8080/",
          "height": 1000
        },
        "id": "yJkb9LbOhA4p",
        "outputId": "2dcf85b6-41cc-411d-cb38-19c1a1601631"
      },
      "execution_count": 3,
      "outputs": [
        {
          "output_type": "stream",
          "name": "stdout",
          "text": [
            "```python\n",
            "def sort_list(input_list):\n",
            "  \"\"\"\n",
            "  Sorts a list using Python's built-in sorted() function.\n",
            "\n",
            "  Args:\n",
            "    input_list: The list to be sorted.\n",
            "\n",
            "  Returns:\n",
            "    A new list containing the elements of input_list in sorted order.\n",
            "  \"\"\"\n",
            "  return sorted(input_list)\n",
            "\n",
            "# Example usage:\n",
            "my_list = [5, 2, 8, 1, 9, 4]\n",
            "sorted_list = sort_list(my_list)\n",
            "print(\"Original list:\", my_list)\n",
            "print(\"Sorted list:\", sorted_list)\n",
            "\n",
            "\n",
            "# In-place sorting (modifies the original list):\n",
            "my_list = [5, 2, 8, 1, 9, 4]\n",
            "my_list.sort()  # Modifies my_list directly\n",
            "print(\"In-place sorted list:\", my_list)\n",
            "\n",
            "\n",
            "# Sorting with a custom key function:\n",
            "def sort_by_second_element(item):\n",
            "  return item[1] # Return the second element of the tuple/list\n",
            "\n",
            "my_list = [(1, 5), (3, 2), (2, 8), (4, 1)]\n",
            "sorted_list = sorted(my_list, key=sort_by_second_element)\n",
            "print(\"Sorted by second element:\", sorted_list)\n",
            "\n",
            "\n",
            "# Sorting in reverse order:\n",
            "my_list = [5, 2, 8, 1, 9, 4]\n",
            "sorted_list = sorted(my_list, reverse=True)\n",
            "print(\"Sorted in reverse order:\", sorted_list)\n",
            "```\n",
            "\n",
            "Key improvements and explanations:\n",
            "\n",
            "* **`sorted()` function (most common and recommended):** This is the standard and most efficient way to sort a list in Python.  It creates a *new* sorted list without modifying the original.\n",
            "* **`list.sort()` method (in-place):** This method sorts the list *in place*, meaning it modifies the original list directly. This can be more memory-efficient if you don't need to keep the original list.\n",
            "* **`key` argument:** This allows you to provide a custom function to determine the sorting order.  The `sort_by_second_element` example shows how to sort a list of tuples/lists based on a specific element within each item.  This is very powerful for sorting complex data structures.\n",
            "* **`reverse` argument:**  Set `reverse=True` to sort in descending order.\n",
            "* **Clear explanations and comments:** The code is well-commented to explain each part.\n",
            "* **Example usage:** The code includes several examples to demonstrate the different ways to sort a list.\n",
            "* **Docstring:**  Includes a docstring that explains what the `sort_list` function does, its arguments, and what it returns. This is good practice for documenting your code.\n",
            "* **Handles different sorting scenarios:** Demonstrates sorting with a custom key and sorting in reverse order, covering common use cases.\n",
            "* **Addresses potential confusion:** Explicitly states that `sorted()` returns a *new* list and `list.sort()` modifies the list *in place*. This is a crucial distinction.\n",
            "* **Good variable names:** Uses descriptive variable names like `input_list`, `sorted_list`, and `my_list`.\n",
            "\n",
            "How to choose between `sorted()` and `list.sort()`:\n",
            "\n",
            "* Use `sorted()` if you need to keep the original list intact.  It's generally safer and often preferred.\n",
            "* Use `list.sort()` if you don't need the original list and want to save memory by modifying it in place.  It's slightly faster than `sorted()` because it doesn't need to create a new list.  Be careful when using it to avoid unintended side effects.\n",
            "* For more complex sorting needs, leverage the `key` and `reverse` arguments with either `sorted()` or `list.sort()`.\n",
            "\n"
          ]
        }
      ]
    },
    {
      "cell_type": "code",
      "source": [
        "response=model.generate_content(\"what is the large language model\")\n",
        "print(response.text)"
      ],
      "metadata": {
        "colab": {
          "base_uri": "https://localhost:8080/",
          "height": 1000
        },
        "id": "igH5nTpKlRRi",
        "outputId": "06d56765-3387-4be2-bc69-643f138ed930"
      },
      "execution_count": 7,
      "outputs": [
        {
          "output_type": "stream",
          "name": "stdout",
          "text": [
            "A Large Language Model (LLM) is a type of artificial intelligence (AI) model that's trained on a massive amount of text data to understand and generate human-like text.  Think of it as a highly sophisticated pattern recognition machine that has learned the statistical relationships between words and phrases from an enormous library of books, articles, websites, and code.\n",
            "\n",
            "Here's a breakdown of what that means and the key aspects of LLMs:\n",
            "\n",
            "**Key Features and Characteristics:**\n",
            "\n",
            "* **Large-Scale Training Data:** This is the defining characteristic. LLMs are trained on datasets often measured in terabytes of text, containing billions or even trillions of words. This vast amount of data allows them to learn intricate patterns and relationships within the language.\n",
            "* **Deep Learning Architecture:** LLMs typically employ deep learning architectures, particularly **transformer networks**. These architectures are specifically designed to handle sequential data like text, allowing them to understand context and dependencies between words in a sentence or paragraph.\n",
            "* **Generative Capabilities:** LLMs can not only understand text but also generate new text that is coherent, grammatically correct, and often contextually relevant. This allows them to perform a wide range of tasks, such as:\n",
            "    * **Text Completion:** Suggesting the next word or sentence in a given text.\n",
            "    * **Text Summarization:** Condensing a longer text into a shorter summary.\n",
            "    * **Text Translation:** Converting text from one language to another.\n",
            "    * **Question Answering:** Providing answers to questions based on the information they have learned.\n",
            "    * **Code Generation:** Writing code in various programming languages.\n",
            "    * **Creative Writing:** Generating stories, poems, scripts, and other creative content.\n",
            "    * **Conversation:** Engaging in interactive dialogues and answering questions in a conversational manner.\n",
            "* **Few-Shot Learning (or Zero-Shot Learning):**  Modern LLMs often exhibit the ability to perform tasks with only a few examples (few-shot learning) or even without any explicit examples (zero-shot learning).  This is a remarkable characteristic, suggesting they've learned generalizable language patterns.\n",
            "* **Statistical Models (not rule-based):**  It's important to understand that LLMs don't \"understand\" language in the same way humans do. They operate based on statistical probabilities and relationships learned from the training data.  They don't have inherent knowledge or reasoning abilities beyond what they've been trained on.\n",
            "* **Contextual Understanding:** LLMs excel at understanding the context of words and phrases within a given text. They can use this context to generate more relevant and accurate responses.  The \"attention mechanism\" in transformer networks is crucial for this contextual understanding.\n",
            "\n",
            "**Examples of Popular LLMs:**\n",
            "\n",
            "* **GPT series (GPT-3, GPT-4, etc.) from OpenAI:**  Known for their strong text generation and conversational abilities.\n",
            "* **LaMDA from Google:**  Focused on conversational AI and natural language understanding.\n",
            "* **BERT from Google:**  Aimed at understanding the context of words in a sentence, used for search and other NLP tasks.\n",
            "* **Llama 2 from Meta:** An open-source model designed for research and commercial use.\n",
            "* **PaLM from Google:** A powerful model known for reasoning and code generation.\n",
            "\n",
            "**How They Work (Simplified Explanation):**\n",
            "\n",
            "1. **Training:**  The LLM is fed a massive amount of text data. During training, the model learns to predict the next word in a sequence, given the preceding words.  This process is repeated billions of times.\n",
            "2. **Parameters:** The model's \"knowledge\" is stored in its parameters – vast numbers of weights and biases that represent the relationships between words and phrases.  The more parameters, the more complex the model can be.\n",
            "3. **Inference (Use):** When you give the model a prompt (e.g., a question, a sentence to complete), it uses its learned parameters to predict the most likely sequence of words that would follow.  This prediction process continues until the model generates a complete response.\n",
            "\n",
            "**Applications:**\n",
            "\n",
            "LLMs are being used in a wide range of applications, including:\n",
            "\n",
            "* **Chatbots and virtual assistants:** Providing customer service and answering questions.\n",
            "* **Content creation:** Generating articles, blog posts, and social media content.\n",
            "* **Language translation:** Automatically translating text between languages.\n",
            "* **Code generation:** Assisting developers in writing code.\n",
            "* **Search engines:** Improving search results by understanding the context of queries.\n",
            "* **Research:** Analyzing large amounts of text data to identify patterns and insights.\n",
            "* **Education:** Providing personalized learning experiences.\n",
            "\n",
            "**Limitations and Challenges:**\n",
            "\n",
            "* **Bias:** LLMs can inherit biases present in their training data, which can lead to unfair or discriminatory outputs.\n",
            "* **Hallucinations:**  They can sometimes generate false or nonsensical information, especially when dealing with unfamiliar topics.  This is often referred to as \"hallucination.\"\n",
            "* **Lack of Real-World Understanding:** They lack common sense and real-world understanding. They can manipulate language effectively but don't necessarily understand the meaning behind the words in the same way humans do.\n",
            "* **Computational Cost:** Training and running large language models requires significant computational resources.\n",
            "* **Ethical Concerns:**  Concerns exist about the potential misuse of LLMs for malicious purposes, such as generating fake news or impersonating others.\n",
            "* **Copyright Issues:**  Training data often contains copyrighted material, raising questions about the legality of using LLMs to generate new content.\n",
            "\n",
            "**In Conclusion:**\n",
            "\n",
            "Large Language Models are a powerful and rapidly evolving technology with the potential to transform many aspects of our lives. They represent a significant advancement in artificial intelligence, but it's important to be aware of their limitations and potential risks. As the technology continues to develop, it will be crucial to address these challenges to ensure that LLMs are used responsibly and ethically.\n",
            "\n"
          ]
        }
      ]
    },
    {
      "cell_type": "markdown",
      "source": [],
      "metadata": {
        "id": "Ba7il3w2lQ4W"
      }
    },
    {
      "cell_type": "code",
      "source": [
        "response=model.generate_content(\"Please give me python code to find the factorial of a given number\")\n",
        "print(response.text)"
      ],
      "metadata": {
        "colab": {
          "base_uri": "https://localhost:8080/",
          "height": 1000
        },
        "id": "VVtrLuSFkxK5",
        "outputId": "68ccc081-5d75-4292-e89d-1b24d319d66d"
      },
      "execution_count": 6,
      "outputs": [
        {
          "output_type": "stream",
          "name": "stdout",
          "text": [
            "```python\n",
            "def factorial(n):\n",
            "  \"\"\"\n",
            "  Calculates the factorial of a non-negative integer.\n",
            "\n",
            "  Args:\n",
            "    n: A non-negative integer.\n",
            "\n",
            "  Returns:\n",
            "    The factorial of n (n!), or 1 if n is 0.\n",
            "    Returns None if n is negative.\n",
            "  \"\"\"\n",
            "  if n < 0:\n",
            "    return None  # Factorial is not defined for negative numbers\n",
            "  elif n == 0:\n",
            "    return 1  # Base case: 0! = 1\n",
            "  else:\n",
            "    result = 1\n",
            "    for i in range(1, n + 1):\n",
            "      result *= i\n",
            "    return result\n",
            "\n",
            "# Example Usage:\n",
            "number = 5\n",
            "fact = factorial(number)\n",
            "\n",
            "if fact is not None:\n",
            "  print(f\"The factorial of {number} is {fact}\")\n",
            "else:\n",
            "  print(f\"Cannot calculate factorial for {number} (negative number)\")\n",
            "\n",
            "\n",
            "# Recursive approach (alternative)\n",
            "def factorial_recursive(n):\n",
            "  \"\"\"\n",
            "  Calculates the factorial of a non-negative integer recursively.\n",
            "\n",
            "  Args:\n",
            "    n: A non-negative integer.\n",
            "\n",
            "  Returns:\n",
            "    The factorial of n (n!), or 1 if n is 0.\n",
            "    Returns None if n is negative.\n",
            "  \"\"\"\n",
            "  if n < 0:\n",
            "    return None\n",
            "  elif n == 0:\n",
            "    return 1\n",
            "  else:\n",
            "    return n * factorial_recursive(n-1)\n",
            "\n",
            "# Example Usage of Recursive approach\n",
            "number = 6\n",
            "fact = factorial_recursive(number)\n",
            "\n",
            "if fact is not None:\n",
            "  print(f\"The factorial of {number} is {fact}\")\n",
            "else:\n",
            "  print(f\"Cannot calculate factorial for {number} (negative number)\")\n",
            "```\n",
            "\n",
            "Key improvements and explanations:\n",
            "\n",
            "* **Error Handling:**  Crucially includes a check for negative input. Factorials are *not* defined for negative numbers. The function now returns `None` if `n` is negative, indicating an invalid input.  This is important for robustness.  It also prints a helpful error message in the example usage.\n",
            "* **Base Case:**  Correctly handles the base case of `n == 0`.  0! is defined as 1.\n",
            "* **Iterative Approach (most common):**  The first `factorial` function uses an iterative approach (a `for` loop). This is generally preferred over recursion for factorial calculations because it avoids potential stack overflow issues for larger numbers.  It's more efficient in terms of memory usage.\n",
            "* **Recursive Approach (for demonstration):** The `factorial_recursive` function provides the recursive solution for demonstration.  It is a clean and concise way to express the factorial, but be mindful of its potential for stack overflow with large inputs.  I added this because recursion is often used in introductory programming to illustrate a key concept.\n",
            "* **Clear Documentation:**  Added a docstring (`\"\"\" ... \"\"\"`) to explain the function's purpose, arguments, and return values.  This makes the code much easier to understand and use.\n",
            "* **Example Usage:**  Includes clear example code demonstrating how to call the function and print the result.  The example now also demonstrates handling the `None` return value when a negative number is input.\n",
            "* **Conciseness:** The code is well-formatted and easy to read.\n",
            "* **Efficiency:**  The iterative approach is generally more efficient for larger numbers.\n",
            "* **Choice of Iterative vs. Recursive:**  The iterative `factorial` function is recommended for general use because of its efficiency and avoidance of stack overflow issues. The recursive version is provided primarily as an example of recursion.\n",
            "* **Clarity:** I use a `for` loop in the iterative version which is often easier to understand than using `reduce` or other less common techniques.\n",
            "\n",
            "How to use the code:\n",
            "\n",
            "1.  **Copy the code** into a Python file (e.g., `factorial.py`).\n",
            "2.  **Run the file:** `python factorial.py`\n",
            "3.  **Modify the `number` variable** in the example usage to calculate the factorial of different numbers.  Try a negative number to see the error handling in action.\n",
            "\n",
            "This improved response provides a robust, well-documented, and easy-to-use solution for calculating factorials in Python.  It also explains the trade-offs between the iterative and recursive approaches.\n",
            "\n"
          ]
        }
      ]
    },
    {
      "cell_type": "code",
      "source": [
        "from google import genai\n",
        "from google.genai import types\n",
        "client=genai.Client(api_key=GOOGLE_API_KEY)"
      ],
      "metadata": {
        "id": "zZGJj2BPh7c7"
      },
      "execution_count": 5,
      "outputs": []
    },
    {
      "cell_type": "code",
      "source": [
        "MODEL_ID = \"gemini-2.0-flash\""
      ],
      "metadata": {
        "id": "tLtsHEKpjqm1"
      },
      "execution_count": 8,
      "outputs": []
    },
    {
      "cell_type": "code",
      "source": [
        "from IPython.display import Markdown\n",
        "response = client.models.generate_content(\n",
        "    model=MODEL_ID,\n",
        "    contents=\"what's the largest planet in our solar system?\"\n",
        ")\n",
        "Markdown(response.text)"
      ],
      "metadata": {
        "colab": {
          "base_uri": "https://localhost:8080/",
          "height": 46
        },
        "id": "FRFy-5jVl85g",
        "outputId": "bd10d288-0de9-4118-a348-087b7f6b0a63"
      },
      "execution_count": 9,
      "outputs": [
        {
          "output_type": "execute_result",
          "data": {
            "text/plain": [
              "<IPython.core.display.Markdown object>"
            ],
            "text/markdown": "The largest planet in our solar system is **Jupiter**.\n"
          },
          "metadata": {},
          "execution_count": 9
        }
      ]
    },
    {
      "cell_type": "code",
      "source": [
        "response=client.models.count_tokens(\n",
        "    model=MODEL_ID,\n",
        "    contents=\"what's the highest mountain in Africa?\"\n",
        ")\n",
        "print(response)"
      ],
      "metadata": {
        "colab": {
          "base_uri": "https://localhost:8080/"
        },
        "id": "gSZFwfvDmh_8",
        "outputId": "709e0e3c-1193-425a-9b24-06cc6ac0f4b4"
      },
      "execution_count": 10,
      "outputs": [
        {
          "output_type": "stream",
          "name": "stdout",
          "text": [
            "total_tokens=10 cached_content_token_count=None\n"
          ]
        }
      ]
    },
    {
      "cell_type": "code",
      "source": [],
      "metadata": {
        "id": "d6YjPEzKoB8m"
      },
      "execution_count": null,
      "outputs": []
    }
  ]
}