{
  "nbformat": 4,
  "nbformat_minor": 0,
  "metadata": {
    "colab": {
      "provenance": [],
      "authorship_tag": "ABX9TyO1veh251PiXOgk3pDIqeNH",
      "include_colab_link": true
    },
    "kernelspec": {
      "name": "python3",
      "display_name": "Python 3"
    },
    "language_info": {
      "name": "python"
    }
  },
  "cells": [
    {
      "cell_type": "markdown",
      "metadata": {
        "id": "view-in-github",
        "colab_type": "text"
      },
      "source": [
        "<a href=\"https://colab.research.google.com/github/Avinash-reddy-2004/nlp-ad-/blob/main/AD_22.ipynb\" target=\"_parent\"><img src=\"https://colab.research.google.com/assets/colab-badge.svg\" alt=\"Open In Colab\"/></a>"
      ]
    },
    {
      "cell_type": "code",
      "execution_count": 3,
      "metadata": {
        "id": "Iusqxuxy-2QF"
      },
      "outputs": [],
      "source": [
        "import google.generativeai as genai\n",
        "from google.colab import userdata\n",
        "GOOGLE_API_KEY=userdata.get('GOOGLE_API_KEY')\n",
        "genai.configure(api_key=GOOGLE_API_KEY)"
      ]
    },
    {
      "cell_type": "code",
      "source": [
        "pip install PyPDF2"
      ],
      "metadata": {
        "colab": {
          "base_uri": "https://localhost:8080/"
        },
        "id": "PCMi2MeO_CVY",
        "outputId": "e3e872ef-f794-4dd5-a58b-3e46425b80a0"
      },
      "execution_count": 2,
      "outputs": [
        {
          "output_type": "stream",
          "name": "stdout",
          "text": [
            "Collecting PyPDF2\n",
            "  Downloading pypdf2-3.0.1-py3-none-any.whl.metadata (6.8 kB)\n",
            "Downloading pypdf2-3.0.1-py3-none-any.whl (232 kB)\n",
            "\u001b[?25l   \u001b[90m━━━━━━━━━━━━━━━━━━━━━━━━━━━━━━━━━━━━━━━━\u001b[0m \u001b[32m0.0/232.6 kB\u001b[0m \u001b[31m?\u001b[0m eta \u001b[36m-:--:--\u001b[0m\r\u001b[2K   \u001b[91m━━━━━━━━━━━━━━━\u001b[0m\u001b[91m╸\u001b[0m\u001b[90m━━━━━━━━━━━━━━━━━━━━━━━━\u001b[0m \u001b[32m92.2/232.6 kB\u001b[0m \u001b[31m3.0 MB/s\u001b[0m eta \u001b[36m0:00:01\u001b[0m\r\u001b[2K   \u001b[90m━━━━━━━━━━━━━━━━━━━━━━━━━━━━━━━━━━━━━━━━\u001b[0m \u001b[32m232.6/232.6 kB\u001b[0m \u001b[31m3.3 MB/s\u001b[0m eta \u001b[36m0:00:00\u001b[0m\n",
            "\u001b[?25hInstalling collected packages: PyPDF2\n",
            "Successfully installed PyPDF2-3.0.1\n"
          ]
        }
      ]
    },
    {
      "cell_type": "code",
      "source": [
        "import PyPDF2\n",
        "def extract_text_from_pdf(pdf_path):\n",
        "    \"\"\"Extracts text from a given health report PDF using PyPDF2.\"\"\"\n",
        "    text = \"\"\n",
        "    with open(pdf_path, \"rb\") as file:\n",
        "        reader = PyPDF2.PdfReader(file)\n",
        "        for page in reader.pages:\n",
        "            text += page.extract_text() + \"\\n\"\n",
        "    return text"
      ],
      "metadata": {
        "id": "D14J018Y_S4J"
      },
      "execution_count": 5,
      "outputs": []
    },
    {
      "cell_type": "code",
      "source": [
        "def extract_health_insights(text):\n",
        "    \"\"\"Asks Gemini AI to extract key medical insights from the report.\"\"\"\n",
        "    model = genai.GenerativeModel(\"gemini-1.5-flash\")\n",
        "    prompt = f\"Extract key insights from the following health report:\\n\\n{text}\"\n",
        "    response = model.generate_content(prompt)\n",
        "    return response.text\n",
        "pdf_file = \"health_report.pdf\"\n",
        "extracted_text = extract_text_from_pdf(pdf_file)\n",
        "insights = extract_health_insights(extracted_text)\n",
        "print(\"Key Insights:\\n\", insights)"
      ],
      "metadata": {
        "colab": {
          "base_uri": "https://localhost:8080/",
          "height": 496
        },
        "id": "DJs_Or0BA3or",
        "outputId": "2aed23d7-a841-4319-e80b-594d18a45ca6"
      },
      "execution_count": 6,
      "outputs": [
        {
          "output_type": "stream",
          "name": "stdout",
          "text": [
            "Key Insights:\n",
            " Mr. Kishan Goud's (MR2100003157) health report from 01/02/2021 reveals the following key insights:\n",
            "\n",
            "**Infectious Diseases:**\n",
            "\n",
            "* **Negative for Dengue:**  NS1 antigen, IgG, and IgM tests were all negative, ruling out a dengue infection.\n",
            "* **Widal Test:** Elevated titers for *Salmonella Typhi* \"O\" (1:160) and \"H\" (1:80) suggest a possible past or current *Salmonella Typhi* infection.  The reference range is significantly lower (1:20). Further investigation might be needed to confirm active infection. *Salmonella Paratyphi* \"A\" and \"B\" titers were within the normal range.\n",
            "* **Negative for Malaria:** Rapid malaria tests for *Plasmodium falciparum* and *Plasmodium vivax* were both negative.\n",
            "\n",
            "**Hematology:**\n",
            "\n",
            "* **Elevated ESR:**  Erythrocyte Sedimentation Rate (ESR) was significantly elevated (26 mm/hr in the first hour and 52 mm/hr in the second hour), suggesting inflammation in the body. This warrants further investigation to determine the cause.\n",
            "* **Complete Blood Count (CBC):**  Most blood values are within the normal range.  Hemoglobin, RBC, WBC, platelets, and PCV are all within or near the reference ranges. Differential count also showed normal ranges. The peripheral blood smear showed normal RBC, WBC, and adequate platelets.\n",
            "\n",
            "**Blood Chemistry:**\n",
            "\n",
            "* **HbA1c:**  The HbA1c level is 5.4%, indicating good blood glucose control within the normal non-diabetic range.\n",
            "* **Serum Creatinine:**  Within the normal range (0.8 mg/dl), indicating normal kidney function.\n",
            "* **Random Blood Glucose:**  The report does not provide a numerical value, only that a method was used.\n",
            "* **Liver Function Tests (LFTs):** All liver function tests (total bilirubin, direct bilirubin, indirect bilirubin, alkaline phosphatase, SGOT, SGPT, total protein, albumin, globulin, and A/G ratio) are within the normal range, indicating no significant liver dysfunction.\n",
            "* **Serum Electrolytes:** Serum sodium (122 mmol/l) is slightly below the lower limit of normal range. Potassium and chloride are within normal limits.  The low sodium warrants further evaluation to determine the cause.\n",
            "\n",
            "\n",
            "**Overall:**\n",
            "\n",
            "While the patient tested negative for dengue and malaria, the elevated ESR and slightly low serum sodium levels, combined with the elevated Widal test titers, require further investigation to determine the cause of the inflammation and the significance of the *Salmonella* antibodies.  The normal liver and kidney function tests, and normal complete blood count, suggest overall the health is generally good.  The slightly low serum sodium should be further looked into.\n",
            "\n"
          ]
        }
      ]
    },
    {
      "cell_type": "code",
      "source": [
        "def summarize_health_report(text):\n",
        "  \"\"\"Summarizes the health report using Gemini AI.\"\"\"\n",
        "  model = genai.GenerativeModel(\"gemini-1.5-flash\")\n",
        "  prompt = f\"Summarize the following health report in a concise manner:\\n\\n{text}\"\n",
        "  response = model.generate_content(prompt)\n",
        "  return response.text\n",
        "\n",
        "summary = summarize_health_report(extracted_text)\n",
        "print(\"Summary:\\n\",summary)"
      ],
      "metadata": {
        "colab": {
          "base_uri": "https://localhost:8080/",
          "height": 88
        },
        "id": "L4WrB3GsD1Xw",
        "outputId": "72b2ad12-23a4-4aec-d253-31cf5b497819"
      },
      "execution_count": 7,
      "outputs": [
        {
          "output_type": "stream",
          "name": "stdout",
          "text": [
            "Summary:\n",
            " Mr. Kishan Goud's (MRN: MR2100003157) blood tests on 01/02/2021 showed:  Elevated ESR (26/52 mm/hr),  Widal test results suggesting possible past exposure to *Salmonella Typhi* (O: 1:160, H: 1:80), negative dengue serology (NS1, IgG, IgM), negative malaria test,  normal complete blood count (CBC) with normal HbA1c (5.4%), normal serum creatinine (0.8 mg/dl),  normal random blood glucose, and normal liver function tests and serum electrolytes, except for slightly low serum sodium (122 mmol/l).\n",
            "\n"
          ]
        }
      ]
    },
    {
      "cell_type": "code",
      "source": [
        "def detect_abnormalities(text):\n",
        "  \"\"\"Analyzes lab test results and flags abnormal values.\"\"\"\n",
        "  model = genai.GenerativeModel(\"gemini-1.5-flash\")\n",
        "  prompt = f\"Analyze the lab test results in the following health report and highlight any abnormal values:\\n\\n{text}\"\n",
        "  response = model.generate_content(prompt)\n",
        "  return response.text\n",
        "\n",
        "abnormalities = detect_abnormalities(extracted_text)\n",
        "print(\"Potential Abnormalities:\\n\",abnormalities)"
      ],
      "metadata": {
        "colab": {
          "base_uri": "https://localhost:8080/",
          "height": 377
        },
        "id": "sZfV_Vs8GPbo",
        "outputId": "4b4169a8-7c5c-4626-c053-dbca0e18b2b2"
      },
      "execution_count": 8,
      "outputs": [
        {
          "output_type": "stream",
          "name": "stdout",
          "text": [
            "Potential Abnormalities:\n",
            " Based on the provided lab results, the following values are outside the normal reference ranges, indicating potential abnormalities:\n",
            "\n",
            "* **Widal Test:**  S. Typhi \"O\" (1:160) and S. Typhi \"H\" (1:80) are significantly elevated above the reference range (1:20). This strongly suggests a past or present *Salmonella Typhi* infection (Typhoid fever).  The higher titer for \"O\" antigen is particularly suggestive.\n",
            "\n",
            "* **ESR (Erythrocyte Sedimentation Rate):**  Both the 1st hour (26 mm/hr) and 2nd hour (52 mm/hr) values are significantly elevated above the normal range (0-8 mm/hr for the 1st hour).  Elevated ESR indicates inflammation in the body.\n",
            "\n",
            "These are the most significant abnormalities.  Let's look at the other results:\n",
            "\n",
            "* **Other values slightly outside of reference range, but may not be clinically significant without further context:**\n",
            "\n",
            "    * **RBC (Red Blood Cells):** Slightly below the lower limit of the reference range. This could be due to several factors and might not be significant on its own.  Needs to be considered in context of other blood values.\n",
            "    * **Serum Chloride:** Slightly below the lower limit of the reference range. Again, needs more context to determine significance.\n",
            "    * **Serum Sodium:** Below the lower limit of the normal range. This is mildly low and should be investigated further. Hyponatremia (low sodium) can have various causes.\n",
            "\n",
            "**All other values fall within their respective reference ranges.**\n",
            "\n",
            "\n",
            "**Important Note:** I am an AI and cannot provide medical advice.  This analysis is for informational purposes only.  Mr. Kishan Goud should discuss these results with his doctor, Dr. Krishna Prasad, for proper interpretation and further investigation.  The elevated Widal test and ESR suggest a significant infection warrants medical attention.  The slightly low sodium also requires consideration.\n",
            "\n"
          ]
        }
      ]
    },
    {
      "cell_type": "code",
      "source": [
        "def explain_medical_temrs(text):\n",
        "  \"\"\"Asks Gemini AI simplify medical terms for patient understanding.\"\"\"\n",
        "  model = genai.GenerativeModel(\"gemini-1.5-flash\")\n",
        "  prompt = f\"Explain the medical terms in the following health report in simple language:\\n\\n{text}\"\n",
        "  response = model.generate_content(prompt)\n",
        "  return response.text\n",
        "\n",
        "explanation = explain_medical_temrs(extracted_text)\n",
        "print(\"Simplified Explanation:\\n\",explanation)"
      ],
      "metadata": {
        "colab": {
          "base_uri": "https://localhost:8080/",
          "height": 768
        },
        "id": "AIvVVqwKICbR",
        "outputId": "daf9ff04-5bf2-469a-9c2a-f4cc3968056f"
      },
      "execution_count": 11,
      "outputs": [
        {
          "output_type": "stream",
          "name": "stdout",
          "text": [
            "Simplified Explanation:\n",
            " This report shows the results of various blood tests performed on Mr. Kishan Goud. Let's break down each section:\n",
            "\n",
            "**1. Widal Test:** This test checks for antibodies against *Salmonella Typhi* and *Salmonella Paratyphi*, bacteria that cause typhoid fever and paratyphoid fever.  The numbers (e.g., 1:160) represent the dilution of the sample where the antibodies were still detected.  Higher numbers suggest a greater likelihood of infection.  In this case:\n",
            "\n",
            "* **S. Typhi \"O\" 1:160:**  Suggests a possible past or current infection with *Salmonella Typhi*.\n",
            "* **S. Typhi \"H\" 1:80:**  Also suggests a possible past or current infection with *Salmonella Typhi*.\n",
            "* **S. Paratyphi \"AH\" 1:20:** Within the normal range, indicating no significant infection with this bacteria.\n",
            "* **S. Paratyphi \"BH\" 1:20:** Within the normal range, indicating no significant infection with this bacteria.\n",
            "\n",
            "**2. Dengue Serology:** This checks for dengue fever.  All results (NS1 Antigen, IgG, and IgM) are negative, meaning no evidence of current or recent dengue infection was found.\n",
            "\n",
            "**3. Erythrocyte Sedimentation Rate (ESR):** This measures how quickly red blood cells settle in a test tube. A higher ESR can indicate inflammation or infection in the body.  Mr. Goud's ESR is elevated (26 mm/hr in the first hour, 52 mm/hr in the second hour), suggesting possible inflammation.\n",
            "\n",
            "**4. Rapid Malaria Test:** This tests for malaria parasites in the blood. Both *Plasmodium vivax* (P.V.) and *Plasmodium falciparum* (P.F.) tests are negative, meaning no malaria infection was detected.\n",
            "\n",
            "**5. Complete Blood Picture (CBC):** This is a comprehensive blood test that includes:\n",
            "\n",
            "* **Hemoglobin (Hb):**  Measures the amount of oxygen-carrying protein in the blood.  Mr. Goud's level (13.6 gms%) is within the normal range.\n",
            "* **Red Blood Cells (RBC):** Counts the number of red blood cells. His count (4.3 mill/cumm) is slightly below the normal range, but not significantly low.\n",
            "* **White Blood Cells (WBC):** Counts the number of white blood cells, which fight infection. His count (7,200 cells/cumm) is within the normal range.\n",
            "* **Platelets:** These cells help with blood clotting. His count (2.0 lakhs/cumm) is within the normal range.\n",
            "* **Packed Cell Volume (PCV):** The percentage of red blood cells in the blood. His level (40.5%) is within the normal range.\n",
            "* **Differential Count:** This breaks down the types of white blood cells. All are within normal ranges.\n",
            "* **Peripheral Blood Smear:** A microscopic examination of the blood; this one shows normal red blood cells and white blood cells within normal limits and adequate platelets.\n",
            "\n",
            "**6. HbA1c:** This test measures average blood sugar levels over the past 2-3 months.  Mr. Goud's result (5.4%) falls within the normal range for someone who is not diabetic.\n",
            "\n",
            "**7. Serum Creatinine:** This measures kidney function. Mr. Goud's level (0.8 mg/dl) is within the normal range.\n",
            "\n",
            "**8. Random Blood Glucose:** This measures blood sugar level at a random time. Mr. Goud's level is within the normal range.\n",
            "\n",
            "**9. Liver Function Test (LFT):**  These tests assess the health of the liver. All results (bilirubin, alkaline phosphatase, SGOT, SGPT, total protein, albumin, globulin, and A/G ratio) are within normal ranges.\n",
            "\n",
            "**10. Serum Electrolytes:** These tests measure the levels of essential minerals in the blood:\n",
            "\n",
            "* **Sodium:** Slightly below the lower limit of normal.\n",
            "* **Potassium:** Within the normal range.\n",
            "* **Chloride:** Slightly below the lower limit of normal.\n",
            "\n",
            "\n",
            "**Overall:**  While some results show slight deviations from the normal range (slightly low RBC, slightly low Sodium and Chloride, and elevated ESR),  most of Mr. Kishan Goud's test results are within normal limits. The elevated ESR and slightly positive Widal test warrant further investigation by his physician to determine the underlying cause of the inflammation.  The slightly low sodium and chloride should also be investigated.  The results do not show any definitive evidence of typhoid, dengue, or malaria.\n",
            "\n"
          ]
        }
      ]
    },
    {
      "cell_type": "code",
      "source": [],
      "metadata": {
        "id": "ar6qAJKQJIje"
      },
      "execution_count": null,
      "outputs": []
    }
  ]
}